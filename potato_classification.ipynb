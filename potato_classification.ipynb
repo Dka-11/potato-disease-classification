{
 "cells": [
  {
   "cell_type": "code",
   "execution_count": 2,
   "metadata": {},
   "outputs": [],
   "source": [
    "import zipfile\n",
    "import os\n",
    "import tensorflow as tf\n",
    "from tensorflow.keras.preprocessing.image import ImageDataGenerator\n",
    "import matplotlib.pyplot as plt"
   ]
  },
  {
   "cell_type": "markdown",
   "metadata": {},
   "source": [
    "## Extract Dataset"
   ]
  },
  {
   "cell_type": "code",
   "execution_count": 3,
   "metadata": {},
   "outputs": [
    {
     "name": "stdout",
     "output_type": "stream",
     "text": [
      "Contents of Base Directory : \n",
      "['Training', 'Validation']\n",
      "\n",
      "Contents of Base Directory : \n",
      "['Potato Early Blight', 'Potato Healthy', 'Potato Late Blight']\n",
      "\n",
      "Contents of Base Directory : \n",
      "['Potato Early Blight', 'Potato Healthy', 'Potato Late Blight']\n"
     ]
    }
   ],
   "source": [
    "base_dir = 'PlantVillage'\n",
    "\n",
    "# Membaca Direktori\n",
    "print(\"Contents of Base Directory : \")\n",
    "print(os.listdir(base_dir))\n",
    "\n",
    "# Membaca Sub-Direktori\n",
    "print(\"\\nContents of Base Directory : \")\n",
    "print(os.listdir(f'{base_dir}/Training'))\n",
    "\n",
    "# Membaca Sub-Direktori\n",
    "print(\"\\nContents of Base Directory : \")\n",
    "print(os.listdir(f'{base_dir}/Validation'))\n"
   ]
  },
  {
   "cell_type": "markdown",
   "metadata": {},
   "source": [
    "## Akses Dataset"
   ]
  },
  {
   "cell_type": "code",
   "execution_count": 4,
   "metadata": {},
   "outputs": [
    {
     "name": "stdout",
     "output_type": "stream",
     "text": [
      "Total Training Potato Early Blight Images :  800\n",
      "Total Training Potato Healthy Images :  121\n",
      "Total Training Potato Late Blight Images :  800\n",
      " ------------------------------------------------ \n",
      "Total Validation Potato Early Blight Images :  200\n",
      "Total Validation Potato Healthy Images :  31\n",
      "Total Validation Potato Late Blight Images :  200\n"
     ]
    }
   ],
   "source": [
    "data_list = ['Potato Early Blight','Potato Healthy','Potato Late Blight']\n",
    "\n",
    "for data in data_list:\n",
    "    print(f'Total Training {data} Images : ', len(os.listdir(f'{base_dir}/Training/{data}')))\n",
    "    \n",
    "print(\" ------------------------------------------------ \")\n",
    "\n",
    "for data in data_list:\n",
    "    print(f'Total Validation {data} Images : ', len(os.listdir(f'{base_dir}/Validation/{data}')))"
   ]
  },
  {
   "cell_type": "markdown",
   "metadata": {},
   "source": [
    "## Resize Dataset "
   ]
  },
  {
   "cell_type": "code",
   "execution_count": 5,
   "metadata": {},
   "outputs": [
    {
     "name": "stdout",
     "output_type": "stream",
     "text": [
      "Resize 224 x 224 piksel Telah Selesai Dilakukan\n"
     ]
    }
   ],
   "source": [
    "from PIL import Image\n",
    "import os\n",
    "\n",
    "def resize_images(input_dir, output_dir, target_size):\n",
    "    for dataset_type in ['Training', 'Validation']:\n",
    "        input_dataset_dir = os.path.join(input_dir, dataset_type)\n",
    "        output_dataset_dir = os.path.join(output_dir, dataset_type)\n",
    "\n",
    "        if not os.path.exists(output_dataset_dir):\n",
    "            os.makedirs(output_dataset_dir)\n",
    "\n",
    "        for class_name in os.listdir(input_dataset_dir):\n",
    "            input_class_dir = os.path.join(input_dataset_dir, class_name)\n",
    "            output_class_dir = os.path.join(output_dataset_dir, class_name)\n",
    "\n",
    "            if not os.path.exists(output_class_dir):\n",
    "                os.makedirs(output_class_dir)\n",
    "\n",
    "            for filename in os.listdir(input_class_dir):\n",
    "                input_img_path = os.path.join(input_class_dir, filename)\n",
    "                output_img_path = os.path.join(output_class_dir, filename)\n",
    "\n",
    "                img = Image.open(input_img_path)\n",
    "                resized_img = img.resize(target_size)\n",
    "                resized_img.save(output_img_path)\n",
    "\n",
    "input_dir = './PlantVillage/'\n",
    "output_dir = './resized_PlantVillage'\n",
    "\n",
    "# Adjust target size as needed\n",
    "target_size = (224, 224)\n",
    "\n",
    "resize_images(input_dir, output_dir, target_size)\n",
    "\n",
    "print(\"Resize 224 x 224 piksel Telah Selesai Dilakukan\")"
   ]
  },
  {
   "cell_type": "markdown",
   "metadata": {},
   "source": [
    "## Akses Data yang telah di resize 224 x 224 pixel"
   ]
  },
  {
   "cell_type": "code",
   "execution_count": 6,
   "metadata": {},
   "outputs": [
    {
     "name": "stdout",
     "output_type": "stream",
     "text": [
      "Total Training Potato Early Blight Resize Images :  800\n",
      "Total Training Potato Healthy Resize Images :  121\n",
      "Total Training Potato Late Blight Resize Images :  800\n",
      "======================================================\n",
      "Total Validation Potato Early Blight Resize Images :  200\n",
      "Total Validation Potato Healthy Resize Images :  31\n",
      "Total Validation Potato Late Blight Resize Images :  200\n"
     ]
    }
   ],
   "source": [
    "data_list = ['Potato Early Blight','Potato Healthy','Potato Late Blight']\n",
    "\n",
    "for data in data_list:\n",
    "    print(f'Total Training {data} Resize Images : ', len(os.listdir(f'{output_dir}/Training/{data}')))\n",
    "    \n",
    "print(\"======================================================\")\n",
    "\n",
    "for data in data_list:\n",
    "    print(f'Total Validation {data} Resize Images : ', len(os.listdir(f'{output_dir}/Validation/{data}')))"
   ]
  },
  {
   "cell_type": "code",
   "execution_count": 7,
   "metadata": {},
   "outputs": [],
   "source": [
    "# Membuat Variabel baru untuk direktori resized\n",
    "TRAIN_RESIZED_DIR = os.path.join(output_dir, 'Training')\n",
    "VALIDATION_RESIZED_DIR = os.path.join(output_dir, 'Validation')\n",
    "\n",
    "# Directory with training cat/dog pictures\n",
    "train_early_resized_dir = os.path.join(TRAIN_RESIZED_DIR, 'Potato Early Blight')\n",
    "train_healthy_resized_dir = os.path.join(TRAIN_RESIZED_DIR, 'Potato Healthy')\n",
    "train_late_resized_dir = os.path.join(TRAIN_RESIZED_DIR, 'Potato Late Blight')\n",
    "\n",
    "# Directory with validation cat/dog pictures\n",
    "validation_early_resized_dir = os.path.join(VALIDATION_RESIZED_DIR, 'Potato Early Blight')\n",
    "validation_healthy_resized_dir = os.path.join(VALIDATION_RESIZED_DIR, 'Potato Healthy')\n",
    "validation_late_resized_dir = os.path.join(VALIDATION_RESIZED_DIR, 'Potato Late Blight')"
   ]
  },
  {
   "cell_type": "markdown",
   "metadata": {},
   "source": [
    "## Data Augmentation"
   ]
  },
  {
   "cell_type": "code",
   "execution_count": 8,
   "metadata": {},
   "outputs": [
    {
     "name": "stdout",
     "output_type": "stream",
     "text": [
      "Found 1721 images belonging to 3 classes.\n",
      "Found 431 images belonging to 3 classes.\n"
     ]
    }
   ],
   "source": [
    "train_datagen = ImageDataGenerator(\n",
    "    rescale = 1./255,\n",
    "    rotation_range = 30,\n",
    "    horizontal_flip =True,\n",
    "    zoom_range = 0.2,\n",
    "    shear_range = 0.2,\n",
    "    fill_mode = 'nearest'\n",
    ")\n",
    "\n",
    "validation_datagen = ImageDataGenerator(\n",
    "    rescale = 1./255\n",
    ")\n",
    "\n",
    "train_generator = train_datagen.flow_from_directory(\n",
    "    TRAIN_RESIZED_DIR,\n",
    "    target_size = (224, 224),\n",
    "    batch_size= 32,\n",
    "    shuffle = True,\n",
    "    class_mode = 'categorical'\n",
    ")\n",
    "\n",
    "validation_generator = validation_datagen.flow_from_directory(\n",
    "    VALIDATION_RESIZED_DIR,\n",
    "    target_size = (224, 224),\n",
    "    batch_size = 32,\n",
    "    class_mode = 'categorical'\n",
    ")"
   ]
  },
  {
   "cell_type": "markdown",
   "metadata": {},
   "source": [
    "## Create Base Model MobileNetV2"
   ]
  },
  {
   "cell_type": "code",
   "execution_count": 9,
   "metadata": {},
   "outputs": [],
   "source": [
    "base_model = tf.keras.applications.MobileNetV2(\n",
    "    input_shape=(224, 224, 3),\n",
    "    include_top=False,\n",
    "    weights='imagenet',\n",
    "    )\n",
    "\n",
    "base_model.trainable = False\n"
   ]
  },
  {
   "cell_type": "code",
   "execution_count": 15,
   "metadata": {},
   "outputs": [
    {
     "name": "stdout",
     "output_type": "stream",
     "text": [
      "There are 2,257,984 total parameters in this model.\n",
      "There are 0 trainable parameters in this model.\n"
     ]
    }
   ],
   "source": [
    "total_params = base_model.count_params()\n",
    "num_trainable_params = sum([w.shape.num_elements() for w in base_model.trainable_weights])\n",
    "\n",
    "print(f\"There are {total_params:,} total parameters in this model.\")\n",
    "print(f\"There are {num_trainable_params:,} trainable parameters in this model.\")"
   ]
  },
  {
   "cell_type": "code",
   "execution_count": 16,
   "metadata": {},
   "outputs": [
    {
     "name": "stdout",
     "output_type": "stream",
     "text": [
      "Model: \"sequential_1\"\n",
      "_________________________________________________________________\n",
      " Layer (type)                Output Shape              Param #   \n",
      "=================================================================\n",
      " mobilenetv2_1.00_224 (Func  (None, 7, 7, 1280)        2257984   \n",
      " tional)                                                         \n",
      "                                                                 \n",
      " global_average_pooling2d_3  (None, 1280)              0         \n",
      "  (GlobalAveragePooling2D)                                       \n",
      "                                                                 \n",
      " dense_4 (Dense)             (None, 128)               163968    \n",
      "                                                                 \n",
      " dropout_1 (Dropout)         (None, 128)               0         \n",
      "                                                                 \n",
      " dense_5 (Dense)             (None, 3)                 387       \n",
      "                                                                 \n",
      "=================================================================\n",
      "Total params: 2422339 (9.24 MB)\n",
      "Trainable params: 164355 (642.01 KB)\n",
      "Non-trainable params: 2257984 (8.61 MB)\n",
      "_________________________________________________________________\n"
     ]
    }
   ],
   "source": [
    "final_model = tf.keras.models.Sequential([\n",
    "    base_model,\n",
    "    tf.keras.layers.GlobalAveragePooling2D(),\n",
    "    tf.keras.layers.Dense(128, activation='relu'),\n",
    "    tf.keras.layers.Dropout(0.2),\n",
    "    tf.keras.layers.Dense(3, activation='softmax')\n",
    "])\n",
    "\n",
    "final_model.summary()"
   ]
  },
  {
   "cell_type": "code",
   "execution_count": 17,
   "metadata": {},
   "outputs": [
    {
     "name": "stdout",
     "output_type": "stream",
     "text": [
      "Epoch 1/5\n",
      "54/54 - 29s - loss: 0.3217 - accuracy: 0.8786 - val_loss: 0.1433 - val_accuracy: 0.9443 - 29s/epoch - 538ms/step\n",
      "Epoch 2/5\n",
      "54/54 - 18s - loss: 0.1059 - accuracy: 0.9611 - val_loss: 0.1181 - val_accuracy: 0.9559 - 18s/epoch - 325ms/step\n",
      "Epoch 3/5\n",
      "54/54 - 17s - loss: 0.0973 - accuracy: 0.9582 - val_loss: 0.1029 - val_accuracy: 0.9466 - 17s/epoch - 322ms/step\n",
      "Epoch 4/5\n",
      "54/54 - 17s - loss: 0.0903 - accuracy: 0.9646 - val_loss: 0.0976 - val_accuracy: 0.9652 - 17s/epoch - 323ms/step\n",
      "Epoch 5/5\n",
      "54/54 - 19s - loss: 0.0758 - accuracy: 0.9709 - val_loss: 0.0917 - val_accuracy: 0.9606 - 19s/epoch - 345ms/step\n"
     ]
    }
   ],
   "source": [
    "final_model.compile(\n",
    "    loss='categorical_crossentropy',\n",
    "    optimizer='adam',\n",
    "    metrics=['accuracy']\n",
    ")\n",
    "\n",
    "model_fit = final_model.fit(\n",
    "    train_generator,\n",
    "    validation_data  = validation_generator,\n",
    "    epochs = 5,\n",
    "    verbose = 2\n",
    ")"
   ]
  }
 ],
 "metadata": {
  "kernelspec": {
   "display_name": "Python 3",
   "language": "python",
   "name": "python3"
  },
  "language_info": {
   "codemirror_mode": {
    "name": "ipython",
    "version": 3
   },
   "file_extension": ".py",
   "mimetype": "text/x-python",
   "name": "python",
   "nbconvert_exporter": "python",
   "pygments_lexer": "ipython3",
   "version": "3.11.3"
  }
 },
 "nbformat": 4,
 "nbformat_minor": 2
}
