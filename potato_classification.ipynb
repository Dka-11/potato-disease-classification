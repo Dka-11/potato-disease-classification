{
 "cells": [
  {
   "cell_type": "code",
   "execution_count": 20,
   "metadata": {},
   "outputs": [],
   "source": [
    "import zipfile\n",
    "import os\n",
    "import tensorflow as tf\n",
    "from tensorflow.keras.preprocessing.image import ImageDataGenerator\n",
    "import matplotlib.pyplot as plt\n",
    "import numpy as np\n",
    "from sklearn.metrics import confusion_matrix, classification_report"
   ]
  },
  {
   "cell_type": "markdown",
   "metadata": {},
   "source": [
    "## Extract Dataset"
   ]
  },
  {
   "cell_type": "code",
   "execution_count": 5,
   "metadata": {},
   "outputs": [
    {
     "name": "stdout",
     "output_type": "stream",
     "text": [
      "Contents of Base Directory : \n",
      "['Training', 'Validation']\n",
      "\n",
      "Contents of Base Directory : \n",
      "['Potato Early Blight', 'Potato Healthy', 'Potato Late Blight']\n",
      "\n",
      "Contents of Base Directory : \n",
      "['Potato Early Blight', 'Potato Healthy', 'Potato Late Blight']\n"
     ]
    }
   ],
   "source": [
    "base_dir = 'PlantVillage'\n",
    "\n",
    "# Membaca Direktori\n",
    "print(\"Contents of Base Directory : \")\n",
    "print(os.listdir(base_dir))\n",
    "\n",
    "# Membaca Sub-Direktori\n",
    "print(\"\\nContents of Base Directory : \")\n",
    "print(os.listdir(f'{base_dir}/Training'))\n",
    "\n",
    "# Membaca Sub-Direktori\n",
    "print(\"\\nContents of Base Directory : \")\n",
    "print(os.listdir(f'{base_dir}/Validation'))\n"
   ]
  },
  {
   "cell_type": "markdown",
   "metadata": {},
   "source": [
    "## Akses Dataset"
   ]
  },
  {
   "cell_type": "code",
   "execution_count": 6,
   "metadata": {},
   "outputs": [
    {
     "name": "stdout",
     "output_type": "stream",
     "text": [
      "Total Training Potato Early Blight Images :  800\n",
      "Total Training Potato Healthy Images :  121\n",
      "Total Training Potato Late Blight Images :  800\n",
      " ------------------------------------------------ \n",
      "Total Validation Potato Early Blight Images :  200\n",
      "Total Validation Potato Healthy Images :  31\n",
      "Total Validation Potato Late Blight Images :  200\n"
     ]
    }
   ],
   "source": [
    "data_list = ['Potato Early Blight','Potato Healthy','Potato Late Blight']\n",
    "\n",
    "for data in data_list:\n",
    "    print(f'Total Training {data} Images : ', len(os.listdir(f'{base_dir}/Training/{data}')))\n",
    "    \n",
    "print(\" ------------------------------------------------ \")\n",
    "\n",
    "for data in data_list:\n",
    "    print(f'Total Validation {data} Images : ', len(os.listdir(f'{base_dir}/Validation/{data}')))"
   ]
  },
  {
   "cell_type": "markdown",
   "metadata": {},
   "source": [
    "## Resize Dataset "
   ]
  },
  {
   "cell_type": "code",
   "execution_count": 7,
   "metadata": {},
   "outputs": [
    {
     "name": "stdout",
     "output_type": "stream",
     "text": [
      "Resize 224 x 224 piksel Telah Selesai Dilakukan\n"
     ]
    }
   ],
   "source": [
    "from PIL import Image\n",
    "import os\n",
    "\n",
    "def resize_images(input_dir, output_dir, target_size):\n",
    "    for dataset_type in ['Training', 'Validation']:\n",
    "        input_dataset_dir = os.path.join(input_dir, dataset_type)\n",
    "        output_dataset_dir = os.path.join(output_dir, dataset_type)\n",
    "\n",
    "        if not os.path.exists(output_dataset_dir):\n",
    "            os.makedirs(output_dataset_dir)\n",
    "\n",
    "        for class_name in os.listdir(input_dataset_dir):\n",
    "            input_class_dir = os.path.join(input_dataset_dir, class_name)\n",
    "            output_class_dir = os.path.join(output_dataset_dir, class_name)\n",
    "\n",
    "            if not os.path.exists(output_class_dir):\n",
    "                os.makedirs(output_class_dir)\n",
    "\n",
    "            for filename in os.listdir(input_class_dir):\n",
    "                input_img_path = os.path.join(input_class_dir, filename)\n",
    "                output_img_path = os.path.join(output_class_dir, filename)\n",
    "\n",
    "                img = Image.open(input_img_path)\n",
    "                resized_img = img.resize(target_size)\n",
    "                resized_img.save(output_img_path)\n",
    "\n",
    "input_dir = './PlantVillage/'\n",
    "output_dir = './resized_PlantVillage'\n",
    "\n",
    "# Adjust target size as needed\n",
    "target_size = (224, 224)\n",
    "\n",
    "resize_images(input_dir, output_dir, target_size)\n",
    "\n",
    "print(\"Resize 224 x 224 piksel Telah Selesai Dilakukan\")"
   ]
  },
  {
   "cell_type": "markdown",
   "metadata": {},
   "source": [
    "## Akses Data yang telah di resize 224 x 224 pixel"
   ]
  },
  {
   "cell_type": "code",
   "execution_count": 8,
   "metadata": {},
   "outputs": [
    {
     "name": "stdout",
     "output_type": "stream",
     "text": [
      "Total Training Potato Early Blight Resize Images :  800\n",
      "Total Training Potato Healthy Resize Images :  121\n",
      "Total Training Potato Late Blight Resize Images :  800\n",
      "======================================================\n",
      "Total Validation Potato Early Blight Resize Images :  200\n",
      "Total Validation Potato Healthy Resize Images :  31\n",
      "Total Validation Potato Late Blight Resize Images :  200\n"
     ]
    }
   ],
   "source": [
    "data_list = ['Potato Early Blight','Potato Healthy','Potato Late Blight']\n",
    "\n",
    "for data in data_list:\n",
    "    print(f'Total Training {data} Resize Images : ', len(os.listdir(f'{output_dir}/Training/{data}')))\n",
    "    \n",
    "print(\"======================================================\")\n",
    "\n",
    "for data in data_list:\n",
    "    print(f'Total Validation {data} Resize Images : ', len(os.listdir(f'{output_dir}/Validation/{data}')))"
   ]
  },
  {
   "cell_type": "code",
   "execution_count": 9,
   "metadata": {},
   "outputs": [],
   "source": [
    "# Membuat Variabel baru untuk direktori resized\n",
    "TRAIN_RESIZED_DIR = os.path.join(output_dir, 'Training')\n",
    "VALIDATION_RESIZED_DIR = os.path.join(output_dir, 'Validation')\n",
    "\n",
    "# Directory with training cat/dog pictures\n",
    "train_early_resized_dir = os.path.join(TRAIN_RESIZED_DIR, 'Potato Early Blight')\n",
    "train_healthy_resized_dir = os.path.join(TRAIN_RESIZED_DIR, 'Potato Healthy')\n",
    "train_late_resized_dir = os.path.join(TRAIN_RESIZED_DIR, 'Potato Late Blight')\n",
    "\n",
    "# Directory with validation cat/dog pictures\n",
    "validation_early_resized_dir = os.path.join(VALIDATION_RESIZED_DIR, 'Potato Early Blight')\n",
    "validation_healthy_resized_dir = os.path.join(VALIDATION_RESIZED_DIR, 'Potato Healthy')\n",
    "validation_late_resized_dir = os.path.join(VALIDATION_RESIZED_DIR, 'Potato Late Blight')"
   ]
  },
  {
   "cell_type": "markdown",
   "metadata": {},
   "source": [
    "## Data Augmentation"
   ]
  },
  {
   "cell_type": "code",
   "execution_count": 10,
   "metadata": {},
   "outputs": [
    {
     "name": "stdout",
     "output_type": "stream",
     "text": [
      "Found 1721 images belonging to 3 classes.\n",
      "Found 431 images belonging to 3 classes.\n"
     ]
    }
   ],
   "source": [
    "train_datagen = ImageDataGenerator(\n",
    "    rescale = 1./255,\n",
    "    rotation_range = 30,\n",
    "    horizontal_flip =True,\n",
    "    zoom_range = 0.2,\n",
    "    shear_range = 0.2,\n",
    "    fill_mode = 'nearest'\n",
    ")\n",
    "\n",
    "validation_datagen = ImageDataGenerator(\n",
    "    rescale = 1./255\n",
    ")\n",
    "\n",
    "train_generator = train_datagen.flow_from_directory(\n",
    "    TRAIN_RESIZED_DIR,\n",
    "    target_size = (224, 224),\n",
    "    batch_size= 32,\n",
    "    shuffle = True,\n",
    "    class_mode = 'categorical'\n",
    ")\n",
    "\n",
    "validation_generator = validation_datagen.flow_from_directory(\n",
    "    VALIDATION_RESIZED_DIR,\n",
    "    target_size = (224, 224),\n",
    "    batch_size = 32,\n",
    "    class_mode = 'categorical',\n",
    "    shuffle=False,\n",
    ")"
   ]
  },
  {
   "cell_type": "markdown",
   "metadata": {},
   "source": [
    "## Create Base Model MobileNetV2"
   ]
  },
  {
   "cell_type": "code",
   "execution_count": 11,
   "metadata": {},
   "outputs": [
    {
     "name": "stdout",
     "output_type": "stream",
     "text": [
      "WARNING:tensorflow:From c:\\Users\\Akazh\\AppData\\Local\\Programs\\Python\\Python311\\Lib\\site-packages\\keras\\src\\backend.py:1398: The name tf.executing_eagerly_outside_functions is deprecated. Please use tf.compat.v1.executing_eagerly_outside_functions instead.\n",
      "\n",
      "WARNING:tensorflow:From c:\\Users\\Akazh\\AppData\\Local\\Programs\\Python\\Python311\\Lib\\site-packages\\keras\\src\\layers\\normalization\\batch_normalization.py:979: The name tf.nn.fused_batch_norm is deprecated. Please use tf.compat.v1.nn.fused_batch_norm instead.\n",
      "\n"
     ]
    }
   ],
   "source": [
    "base_model = tf.keras.applications.MobileNetV2(\n",
    "    input_shape=(224, 224, 3),\n",
    "    include_top=False,\n",
    "    weights='imagenet',\n",
    "    )\n",
    "\n",
    "base_model.trainable = False\n"
   ]
  },
  {
   "cell_type": "code",
   "execution_count": 12,
   "metadata": {},
   "outputs": [
    {
     "name": "stdout",
     "output_type": "stream",
     "text": [
      "There are 2,257,984 total parameters in this model.\n",
      "There are 0 trainable parameters in this model.\n"
     ]
    }
   ],
   "source": [
    "total_params = base_model.count_params()\n",
    "num_trainable_params = sum([w.shape.num_elements() for w in base_model.trainable_weights])\n",
    "\n",
    "print(f\"There are {total_params:,} total parameters in this model.\")\n",
    "print(f\"There are {num_trainable_params:,} trainable parameters in this model.\")"
   ]
  },
  {
   "cell_type": "code",
   "execution_count": 13,
   "metadata": {},
   "outputs": [
    {
     "name": "stdout",
     "output_type": "stream",
     "text": [
      "Model: \"sequential\"\n",
      "_________________________________________________________________\n",
      " Layer (type)                Output Shape              Param #   \n",
      "=================================================================\n",
      " mobilenetv2_1.00_224 (Func  (None, 7, 7, 1280)        2257984   \n",
      " tional)                                                         \n",
      "                                                                 \n",
      " global_average_pooling2d (  (None, 1280)              0         \n",
      " GlobalAveragePooling2D)                                         \n",
      "                                                                 \n",
      " dense (Dense)               (None, 128)               163968    \n",
      "                                                                 \n",
      " dropout (Dropout)           (None, 128)               0         \n",
      "                                                                 \n",
      " dense_1 (Dense)             (None, 3)                 387       \n",
      "                                                                 \n",
      "=================================================================\n",
      "Total params: 2422339 (9.24 MB)\n",
      "Trainable params: 164355 (642.01 KB)\n",
      "Non-trainable params: 2257984 (8.61 MB)\n",
      "_________________________________________________________________\n",
      "You must install pydot (`pip install pydot`) and install graphviz (see instructions at https://graphviz.gitlab.io/download/) for plot_model to work.\n"
     ]
    }
   ],
   "source": [
    "final_model = tf.keras.models.Sequential([\n",
    "    base_model,\n",
    "    tf.keras.layers.GlobalAveragePooling2D(),\n",
    "    tf.keras.layers.Dense(128, activation='relu'),\n",
    "    tf.keras.layers.Dropout(0.2),\n",
    "    tf.keras.layers.Dense(3, activation='softmax')\n",
    "])\n",
    "\n",
    "final_model.summary()\n",
    "\n",
    "tf.keras.utils.plot_model(final_model, show_shapes=True)"
   ]
  },
  {
   "cell_type": "code",
   "execution_count": 14,
   "metadata": {},
   "outputs": [
    {
     "name": "stdout",
     "output_type": "stream",
     "text": [
      "WARNING:tensorflow:From c:\\Users\\Akazh\\AppData\\Local\\Programs\\Python\\Python311\\Lib\\site-packages\\keras\\src\\optimizers\\__init__.py:309: The name tf.train.Optimizer is deprecated. Please use tf.compat.v1.train.Optimizer instead.\n",
      "\n",
      "Epoch 1/5\n",
      "WARNING:tensorflow:From c:\\Users\\Akazh\\AppData\\Local\\Programs\\Python\\Python311\\Lib\\site-packages\\keras\\src\\utils\\tf_utils.py:492: The name tf.ragged.RaggedTensorValue is deprecated. Please use tf.compat.v1.ragged.RaggedTensorValue instead.\n",
      "\n",
      "WARNING:tensorflow:From c:\\Users\\Akazh\\AppData\\Local\\Programs\\Python\\Python311\\Lib\\site-packages\\keras\\src\\engine\\base_layer_utils.py:384: The name tf.executing_eagerly_outside_functions is deprecated. Please use tf.compat.v1.executing_eagerly_outside_functions instead.\n",
      "\n",
      "54/54 - 25s - loss: 0.3323 - accuracy: 0.8675 - val_loss: 0.2119 - val_accuracy: 0.9049 - 25s/epoch - 471ms/step\n",
      "Epoch 2/5\n",
      "54/54 - 15s - loss: 0.1255 - accuracy: 0.9593 - val_loss: 0.1124 - val_accuracy: 0.9606 - 15s/epoch - 279ms/step\n",
      "Epoch 3/5\n",
      "54/54 - 16s - loss: 0.0845 - accuracy: 0.9692 - val_loss: 0.1004 - val_accuracy: 0.9582 - 16s/epoch - 296ms/step\n",
      "Epoch 4/5\n",
      "54/54 - 16s - loss: 0.0673 - accuracy: 0.9768 - val_loss: 0.0930 - val_accuracy: 0.9582 - 16s/epoch - 289ms/step\n",
      "Epoch 5/5\n",
      "54/54 - 16s - loss: 0.0633 - accuracy: 0.9768 - val_loss: 0.1535 - val_accuracy: 0.9327 - 16s/epoch - 287ms/step\n"
     ]
    }
   ],
   "source": [
    "final_model.compile(\n",
    "    loss='categorical_crossentropy',\n",
    "    optimizer='adam',\n",
    "    metrics=['accuracy']\n",
    ")\n",
    "\n",
    "model_fit = final_model.fit(\n",
    "    train_generator,\n",
    "    validation_data  = validation_generator,\n",
    "    epochs = 5,\n",
    "    verbose = 2\n",
    ")"
   ]
  },
  {
   "cell_type": "code",
   "execution_count": 15,
   "metadata": {},
   "outputs": [
    {
     "name": "stdout",
     "output_type": "stream",
     "text": [
      "14/14 [==============================] - 2s 146ms/step - loss: 0.1535 - accuracy: 0.9327\n",
      "Valid Loss :  0.1534598469734192\n",
      "Valid Accuracy :  0.9327146410942078\n"
     ]
    }
   ],
   "source": [
    "evaluation_results = final_model.evaluate(validation_generator)\n",
    "\n",
    "print(\"Valid Loss : \", evaluation_results[0])\n",
    "print(\"Valid Accuracy : \", evaluation_results[1])"
   ]
  },
  {
   "cell_type": "code",
   "execution_count": 16,
   "metadata": {},
   "outputs": [
    {
     "data": {
      "image/png": "[encoded data removed]",
      "text/plain": [
       "<Figure size 1000x500 with 1 Axes>"
      ]
     },
     "metadata": {},
     "output_type": "display_data"
    },
    {
     "data": {
      "text/plain": [
       "<matplotlib.legend.Legend at 0x2b7785fea90>"
      ]
     },
     "execution_count": 16,
     "metadata": {},
     "output_type": "execute_result"
    },
    {
     "data": {
      "image/png": "[encoded data removed]",
      "text/plain": [
       "<Figure size 1000x500 with 1 Axes>"
      ]
     },
     "metadata": {},
     "output_type": "display_data"
    }
   ],
   "source": [
    "train_acc = model_fit.history['accuracy']\n",
    "val_acc  = model_fit.history['val_accuracy']\n",
    "train_loss = model_fit.history['loss']\n",
    "val_loss  = model_fit.history['val_loss']\n",
    "\n",
    "plt.figure(figsize=(10,5))\n",
    "plt.plot(train_acc, label='Train Accuracy')\n",
    "plt.plot(val_acc, label='Validation Accuracy')\n",
    "plt.title('Train and Validation Accuracy')\n",
    "plt.xlabel('Epoch')\n",
    "plt.ylabel('Accuracy')\n",
    "plt.legend()\n",
    "plt.show()\n",
    "\n",
    "plt.figure(figsize=(10,5))\n",
    "plt.plot(train_loss, label='Train Loss')\n",
    "plt.plot(val_loss, label='Validation Loss')\n",
    "plt.title('Loss and Validation Loss')\n",
    "plt.xlabel('Epoch')\n",
    "plt.ylabel('Loss')\n",
    "plt.legend()"
   ]
  },
  {
   "cell_type": "code",
   "execution_count": 21,
   "metadata": {},
   "outputs": [
    {
     "name": "stdout",
     "output_type": "stream",
     "text": [
      "14/14 [==============================] - 2s 160ms/step\n",
      "Confusion Matrix MobileNetV2 : \n",
      "[[191   0   9]\n",
      " [  0  31   0]\n",
      " [  1  19 180]]\n",
      "\n",
      " Classification Report : \n",
      "                     precision    recall  f1-score   support\n",
      "\n",
      "Potato Early Blight       0.99      0.95      0.97       200\n",
      "     Potato Healthy       0.62      1.00      0.77        31\n",
      " Potato Late Blight       0.95      0.90      0.93       200\n",
      "\n",
      "           accuracy                           0.93       431\n",
      "          macro avg       0.86      0.95      0.89       431\n",
      "       weighted avg       0.95      0.93      0.94       431\n",
      "\n"
     ]
    }
   ],
   "source": [
    "predictions = final_model.predict(validation_generator)\n",
    "classes = os.listdir(TRAIN_RESIZED_DIR)\n",
    "\n",
    "true_labels = validation_generator.classes\n",
    "\n",
    "predicted_labels = np.argmax(predictions, axis=1)\n",
    "\n",
    "conf_matrix = confusion_matrix(true_labels, predicted_labels)\n",
    "\n",
    "print(\"Confusion Matrix MobileNetV2 : \")\n",
    "print(conf_matrix)\n",
    "\n",
    "print(\"\\n Classification Report : \")\n",
    "print(classification_report(true_labels, predicted_labels, target_names=classes))"
   ]
  },
  {
   "cell_type": "code",
   "execution_count": 22,
   "metadata": {},
   "outputs": [
    {
     "name": "stderr",
     "output_type": "stream",
     "text": [
      "c:\\Users\\Akazh\\AppData\\Local\\Programs\\Python\\Python311\\Lib\\site-packages\\keras\\src\\engine\\training.py:3103: UserWarning: You are saving your model as an HDF5 file via `model.save()`. This file format is considered legacy. We recommend using instead the native Keras format, e.g. `model.save('my_model.keras')`.\n",
      "  saving_api.save_model(\n"
     ]
    }
   ],
   "source": [
    "final_model.save('potato_model.h5')"
   ]
  },
  {
   "cell_type": "code",
   "execution_count": null,
   "metadata": {},
   "outputs": [],
   "source": []
  }
 ],
 "metadata": {
  "kernelspec": {
   "display_name": "Python 3",
   "language": "python",
   "name": "python3"
  },
  "language_info": {
   "codemirror_mode": {
    "name": "ipython",
    "version": 3
   },
   "file_extension": ".py",
   "mimetype": "text/x-python",
   "name": "python",
   "nbconvert_exporter": "python",
   "pygments_lexer": "ipython3",
   "version": "3.11.3"
  }
 },
 "nbformat": 4,
 "nbformat_minor": 2
}
