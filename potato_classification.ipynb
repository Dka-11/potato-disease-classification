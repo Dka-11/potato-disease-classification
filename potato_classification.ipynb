{
 "cells": [
  {
   "cell_type": "code",
   "execution_count": 7,
   "metadata": {},
   "outputs": [],
   "source": [
    "import zipfile\n",
    "import os\n",
    "import tensorflow as tf\n",
    "from tensorflow.keras.preprocessing.image import ImageDataGenerator\n",
    "import matplotlib.pyplot as plt"
   ]
  },
  {
   "cell_type": "markdown",
   "metadata": {},
   "source": [
    "## Extract Dataset"
   ]
  },
  {
   "cell_type": "code",
   "execution_count": 8,
   "metadata": {},
   "outputs": [
    {
     "name": "stdout",
     "output_type": "stream",
     "text": [
      "Contents of Base Directory : \n",
      "['Training', 'Validation']\n",
      "\n",
      "Contents of Base Directory : \n",
      "['Potato Early Blight', 'Potato Healthy', 'Potato Late Blight']\n",
      "\n",
      "Contents of Base Directory : \n",
      "['Potato Early Blight', 'Potato Healthy', 'Potato Late Blight']\n"
     ]
    }
   ],
   "source": [
    "base_dir = 'PlantVillage'\n",
    "\n",
    "# Membaca Direktori\n",
    "print(\"Contents of Base Directory : \")\n",
    "print(os.listdir(base_dir))\n",
    "\n",
    "# Membaca Sub-Direktori\n",
    "print(\"\\nContents of Base Directory : \")\n",
    "print(os.listdir(f'{base_dir}/Training'))\n",
    "\n",
    "# Membaca Sub-Direktori\n",
    "print(\"\\nContents of Base Directory : \")\n",
    "print(os.listdir(f'{base_dir}/Validation'))\n"
   ]
  },
  {
   "cell_type": "markdown",
   "metadata": {},
   "source": [
    "## Akses Dataset"
   ]
  },
  {
   "cell_type": "code",
   "execution_count": 9,
   "metadata": {},
   "outputs": [
    {
     "name": "stdout",
     "output_type": "stream",
     "text": [
      "Total Training Potato Early Blight Images :  800\n",
      "Total Training Potato Healthy Images :  121\n",
      "Total Training Potato Late Blight Images :  800\n",
      " ------------------------------------------------ \n",
      "Total Validation Potato Early Blight Images :  200\n",
      "Total Validation Potato Healthy Images :  31\n",
      "Total Validation Potato Late Blight Images :  200\n"
     ]
    }
   ],
   "source": [
    "data_list = ['Potato Early Blight','Potato Healthy','Potato Late Blight']\n",
    "\n",
    "for data in data_list:\n",
    "    print(f'Total Training {data} Images : ', len(os.listdir(f'{base_dir}/Training/{data}')))\n",
    "    \n",
    "print(\" ------------------------------------------------ \")\n",
    "\n",
    "for data in data_list:\n",
    "    print(f'Total Validation {data} Images : ', len(os.listdir(f'{base_dir}/Validation/{data}')))"
   ]
  },
  {
   "cell_type": "markdown",
   "metadata": {},
   "source": [
    "## Akses / Read Dataset"
   ]
  },
  {
   "cell_type": "code",
   "execution_count": 16,
   "metadata": {},
   "outputs": [],
   "source": [
    "TRAIN_ORIGINAL_DIR = os.path.join(base_dir, 'Training')\n",
    "VALIDATION_ORIGINAL_DIR = os.path.join(base_dir, 'Validation')\n",
    "\n",
    "# Directory with training cat/dog pictures\n",
    "train_early_dir = os.path.join(TRAIN_ORIGINAL_DIR, 'Potato Early Blight')\n",
    "train_healthy_dir = os.path.join(TRAIN_ORIGINAL_DIR, 'Potato Healthy')\n",
    "train_late_dir = os.path.join(TRAIN_ORIGINAL_DIR, 'Potato Late Blight')\n",
    "\n",
    "# Directory with validation cat/dog pictures\n",
    "validation_early_dir = os.path.join(VALIDATION_ORIGINAL_DIR, 'Potato Early Blight')\n",
    "validation_healthy_dir = os.path.join(VALIDATION_ORIGINAL_DIR, 'Potato Healthy')\n",
    "validation_late_dir = os.path.join(VALIDATION_ORIGINAL_DIR, 'Potato Late Blight')\n"
   ]
  },
  {
   "cell_type": "code",
   "execution_count": 17,
   "metadata": {},
   "outputs": [
    {
     "name": "stdout",
     "output_type": "stream",
     "text": [
      "Total Training Potato Early Blight images : 800\n",
      "Total Training Potato Healthy images : 121\n",
      "Total Training Potato Late Blight images : 800\n",
      "==============================================\n",
      "Total Validation Potato Early Blight images : 200\n",
      "Total Validation Potato Healthy images : 31\n",
      "Total Validation Potato Late Blight images : 200\n"
     ]
    }
   ],
   "source": [
    "print('Total Training Potato Early Blight images :' , len(os.listdir(train_early_dir)))\n",
    "print('Total Training Potato Healthy images :' , len(os.listdir(train_healthy_dir)))\n",
    "print('Total Training Potato Late Blight images :' , len(os.listdir(train_late_dir)))\n",
    "print('==============================================')\n",
    "print('Total Validation Potato Early Blight images :' , len(os.listdir(validation_early_dir)))\n",
    "print('Total Validation Potato Healthy images :', len(os.listdir(validation_healthy_dir)))\n",
    "print('Total Validation Potato Late Blight images :', len(os.listdir(validation_late_dir)))"
   ]
  },
  {
   "cell_type": "markdown",
   "metadata": {},
   "source": [
    "## Resize Dataset "
   ]
  },
  {
   "cell_type": "code",
   "execution_count": 10,
   "metadata": {},
   "outputs": [
    {
     "name": "stdout",
     "output_type": "stream",
     "text": [
      "Resize 224 x 224 piksel Telah Selesai Dilakukan\n"
     ]
    }
   ],
   "source": [
    "from PIL import Image\n",
    "import os\n",
    "\n",
    "def resize_images(input_dir, output_dir, target_size):\n",
    "    for dataset_type in ['Training', 'Validation']:\n",
    "        input_dataset_dir = os.path.join(input_dir, dataset_type)\n",
    "        output_dataset_dir = os.path.join(output_dir, dataset_type)\n",
    "\n",
    "        if not os.path.exists(output_dataset_dir):\n",
    "            os.makedirs(output_dataset_dir)\n",
    "\n",
    "        for class_name in os.listdir(input_dataset_dir):\n",
    "            input_class_dir = os.path.join(input_dataset_dir, class_name)\n",
    "            output_class_dir = os.path.join(output_dataset_dir, class_name)\n",
    "\n",
    "            if not os.path.exists(output_class_dir):\n",
    "                os.makedirs(output_class_dir)\n",
    "\n",
    "            for filename in os.listdir(input_class_dir):\n",
    "                input_img_path = os.path.join(input_class_dir, filename)\n",
    "                output_img_path = os.path.join(output_class_dir, filename)\n",
    "\n",
    "                img = Image.open(input_img_path)\n",
    "                resized_img = img.resize(target_size)\n",
    "                resized_img.save(output_img_path)\n",
    "\n",
    "input_dir = './PlantVillage/'\n",
    "output_dir = './resized_PlantVillage'\n",
    "\n",
    "# Adjust target size as needed\n",
    "target_size = (224, 224)\n",
    "\n",
    "resize_images(input_dir, output_dir, target_size)\n",
    "\n",
    "print(\"Resize 224 x 224 piksel Telah Selesai Dilakukan\")"
   ]
  },
  {
   "cell_type": "markdown",
   "metadata": {},
   "source": [
    "## Akses Data yang telah di resize 224 x 224 pixel"
   ]
  },
  {
   "cell_type": "code",
   "execution_count": 5,
   "metadata": {},
   "outputs": [
    {
     "name": "stdout",
     "output_type": "stream",
     "text": [
      "Total Training Potato Early Blight Images :  800\n",
      "Total Training Potato Healthy Images :  121\n",
      "Total Training Potato Late Blight Images :  800\n",
      " ------------------------------------------------ \n",
      "Total Validation Potato Early Blight Images :  200\n",
      "Total Validation Potato Healthy Images :  31\n",
      "Total Validation Potato Late Blight Images :  200\n"
     ]
    }
   ],
   "source": [
    "data_list = ['Potato Early Blight','Potato Healthy','Potato Late Blight']\n",
    "\n",
    "for data in data_list:\n",
    "    print(f'Total Training {data} Images : ', len(os.listdir(f'{output_dir}/Training/{data}')))\n",
    "    \n",
    "print(\" ------------------------------------------------ \")\n",
    "\n",
    "for data in data_list:\n",
    "    print(f'Total Validation {data} Images : ', len(os.listdir(f'{output_dir}/Validation/{data}')))"
   ]
  },
  {
   "cell_type": "code",
   "execution_count": 11,
   "metadata": {},
   "outputs": [],
   "source": [
    "# Membuat Variabel baru untuk direktori resized\n",
    "TRAIN_RESIZED_DIR = os.path.join(output_dir, 'Training')\n",
    "VALIDATION_RESIZED_DIR = os.path.join(output_dir, 'Validation')\n",
    "\n",
    "# Directory with training cat/dog pictures\n",
    "train_early_resized_dir = os.path.join(TRAIN_RESIZED_DIR, 'Potato Early Blight')\n",
    "train_healthy_resized_dir = os.path.join(TRAIN_RESIZED_DIR, 'Potato Healthy')\n",
    "train_late_resized_dir = os.path.join(TRAIN_RESIZED_DIR, 'Potato Late Blight')\n",
    "\n",
    "# Directory with validation cat/dog pictures\n",
    "validation_early_resized_dir = os.path.join(VALIDATION_RESIZED_DIR, 'Potato Early Blight')\n",
    "validation_healthy_resized_dir = os.path.join(VALIDATION_RESIZED_DIR, 'Potato Healthy')\n",
    "validation_late_resized_dir = os.path.join(VALIDATION_RESIZED_DIR, 'Potato Late Blight')"
   ]
  },
  {
   "cell_type": "markdown",
   "metadata": {},
   "source": [
    "## Data Augmentation"
   ]
  },
  {
   "cell_type": "code",
   "execution_count": 14,
   "metadata": {},
   "outputs": [
    {
     "name": "stdout",
     "output_type": "stream",
     "text": [
      "Found 1721 images belonging to 3 classes.\n",
      "Found 431 images belonging to 3 classes.\n"
     ]
    }
   ],
   "source": [
    "train_datagen = ImageDataGenerator(\n",
    "    rescale = 1./255,\n",
    "    rotation_range = 30,\n",
    "    horizontal_flip =True,\n",
    "    zoom_range = 0.2,\n",
    "    shear_range = 0.2,\n",
    "    fill_mode = 'nearest'\n",
    ")\n",
    "\n",
    "validation_datagen = ImageDataGenerator(\n",
    "    rescale = 1./255\n",
    ")\n",
    "\n",
    "train_generator = train_datagen.flow_from_directory(\n",
    "    TRAIN_RESIZED_DIR,\n",
    "    target_size = (224, 224),\n",
    "    batch_size= 32,\n",
    "    shuffle = True,\n",
    "    class_mode = 'categorical'\n",
    ")\n",
    "\n",
    "validation_generator = validation_datagen.flow_from_directory(\n",
    "    VALIDATION_RESIZED_DIR,\n",
    "    target_size = (224, 224),\n",
    "    batch_size = 32,\n",
    "    class_mode = 'categorical'\n",
    ")"
   ]
  },
  {
   "cell_type": "code",
   "execution_count": null,
   "metadata": {},
   "outputs": [],
   "source": []
  }
 ],
 "metadata": {
  "kernelspec": {
   "display_name": "Python 3",
   "language": "python",
   "name": "python3"
  },
  "language_info": {
   "codemirror_mode": {
    "name": "ipython",
    "version": 3
   },
   "file_extension": ".py",
   "mimetype": "text/x-python",
   "name": "python",
   "nbconvert_exporter": "python",
   "pygments_lexer": "ipython3",
   "version": "3.11.3"
  }
 },
 "nbformat": 4,
 "nbformat_minor": 2
}
