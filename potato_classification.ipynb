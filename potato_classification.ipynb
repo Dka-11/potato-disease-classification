{
 "cells": [
  {
   "cell_type": "code",
   "execution_count": 2,
   "metadata": {},
   "outputs": [],
   "source": [
    "import zipfile\n",
    "import os\n",
    "import tensorflow as tf\n",
    "import matplotlib.pyplot as plt"
   ]
  },
  {
   "cell_type": "code",
   "execution_count": 3,
   "metadata": {},
   "outputs": [],
   "source": [
    "# Unzip File\n",
    "local_zip = './Plants.zip'\n",
    "zip_extract = zipfile.ZipFile(local_zip, 'r')\n",
    "zip_extract.extractall()\n",
    "zip_extract.close()"
   ]
  },
  {
   "cell_type": "code",
   "execution_count": 4,
   "metadata": {},
   "outputs": [
    {
     "name": "stdout",
     "output_type": "stream",
     "text": [
      "Contents of Base Directory : \n",
      "['Training', 'Validation']\n",
      "\n",
      "Contents of Base Directory : \n",
      "['Potato Early Blight', 'Potato Healthy', 'Potato Late Blight']\n",
      "\n",
      "Contents of Base Directory : \n",
      "['Potato Early Blight', 'Potato Healthy', 'Potato Late Blight']\n"
     ]
    }
   ],
   "source": [
    "base_dir = 'PlantVillage'\n",
    "\n",
    "print(\"Contents of Base Directory : \")\n",
    "print(os.listdir(base_dir))\n",
    "\n",
    "print(\"\\nContents of Base Directory : \")\n",
    "print(os.listdir(f'{base_dir}/Training'))\n",
    "\n",
    "print(\"\\nContents of Base Directory : \")\n",
    "print(os.listdir(f'{base_dir}/Validation'))\n"
   ]
  },
  {
   "cell_type": "code",
   "execution_count": 11,
   "metadata": {},
   "outputs": [],
   "source": [
    "from PIL import Image\n",
    "import os\n",
    "\n",
    "def resize_images(input_dir, output_dir, target_size):\n",
    "    for dataset_type in ['Training', 'Validation']:\n",
    "        input_dataset_dir = os.path.join(input_dir, dataset_type)\n",
    "        output_dataset_dir = os.path.join(output_dir, dataset_type)\n",
    "\n",
    "        if not os.path.exists(output_dataset_dir):\n",
    "            os.makedirs(output_dataset_dir)\n",
    "\n",
    "        for class_name in os.listdir(input_dataset_dir):\n",
    "            input_class_dir = os.path.join(input_dataset_dir, class_name)\n",
    "            output_class_dir = os.path.join(output_dataset_dir, class_name)\n",
    "\n",
    "            if not os.path.exists(output_class_dir):\n",
    "                os.makedirs(output_class_dir)\n",
    "\n",
    "            for filename in os.listdir(input_class_dir):\n",
    "                input_img_path = os.path.join(input_class_dir, filename)\n",
    "                output_img_path = os.path.join(output_class_dir, filename)\n",
    "\n",
    "                img = Image.open(input_img_path)\n",
    "                resized_img = img.resize(target_size)\n",
    "                resized_img.save(output_img_path)\n",
    "\n",
    "input_dir = './PlantVillage/'\n",
    "output_dir = './PlantVillage/resized'\n",
    "\n",
    "# Adjust target size as needed\n",
    "target_size = (224, 224)\n",
    "\n",
    "resize_images(input_dir, output_dir, target_size)\n",
    "\n"
   ]
  },
  {
   "cell_type": "code",
   "execution_count": 5,
   "metadata": {},
   "outputs": [],
   "source": [
    "TRAINING_DIR = os.path.join(base_dir, 'Training')\n",
    "VALIDATION_DIR = os.path.join(base_dir, 'Validation')\n",
    "\n",
    "# Directory with training cat/dog pictures\n",
    "train_early_dir = os.path.join(TRAINING_DIR, 'Potato Early Blight')\n",
    "train_healthy_dir = os.path.join(TRAINING_DIR, 'Potato Healthy')\n",
    "train_late_dir = os.path.join(TRAINING_DIR, 'Potato Late Blight')\n",
    "\n",
    "# Directory with validation cat/dog pictures\n",
    "validation_early_dir = os.path.join(VALIDATION_DIR, 'Potato Early Blight')\n",
    "validation_healthy_dir = os.path.join(VALIDATION_DIR, 'Potato Healthy')\n",
    "validation_late_dir = os.path.join(VALIDATION_DIR, 'Potato Late Blight')\n"
   ]
  },
  {
   "cell_type": "code",
   "execution_count": 8,
   "metadata": {},
   "outputs": [
    {
     "name": "stdout",
     "output_type": "stream",
     "text": [
      "Total Training Potato Early Blight images : 800\n",
      "Total Training Potato Healthy images : 121\n",
      "Total Training Potato Late Blight images : 800\n",
      "==============================================\n",
      "Total Validation Potato Early Blight images : 200\n",
      "Total Validation Potato Healthy images : 31\n",
      "Total Validation Potato Late Blight images : 200\n"
     ]
    }
   ],
   "source": [
    "print('Total Training Potato Early Blight images :' , len(os.listdir(train_early_dir)))\n",
    "print('Total Training Potato Healthy images :' , len(os.listdir(train_healthy_dir)))\n",
    "print('Total Training Potato Late Blight images :' , len(os.listdir(train_late_dir)))\n",
    "print('==============================================')\n",
    "print('Total Validation Potato Early Blight images :' , len(os.listdir(validation_early_dir)))\n",
    "print('Total Validation Potato Healthy images :', len(os.listdir(validation_healthy_dir)))\n",
    "print('Total Validation Potato Late Blight images :', len(os.listdir(validation_late_dir)))"
   ]
  },
  {
   "cell_type": "code",
   "execution_count": null,
   "metadata": {},
   "outputs": [],
   "source": []
  }
 ],
 "metadata": {
  "kernelspec": {
   "display_name": "Python 3",
   "language": "python",
   "name": "python3"
  },
  "language_info": {
   "codemirror_mode": {
    "name": "ipython",
    "version": 3
   },
   "file_extension": ".py",
   "mimetype": "text/x-python",
   "name": "python",
   "nbconvert_exporter": "python",
   "pygments_lexer": "ipython3",
   "version": "3.11.3"
  }
 },
 "nbformat": 4,
 "nbformat_minor": 2
}
